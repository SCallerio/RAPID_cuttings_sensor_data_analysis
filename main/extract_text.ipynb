{
 "cells": [
  {
   "cell_type": "code",
   "execution_count": 1,
   "metadata": {},
   "outputs": [],
   "source": [
    "#Add folder to sys path to import modules from sub folders\n",
    "import sys\n",
    "sys.path.insert(0, r'C:\\Users\\SaANTIAGO\\Google Drive Streaming\\My Drive\\18_UT_RAPID\\cuttings_sensor')"
   ]
  },
  {
   "cell_type": "code",
   "execution_count": 2,
   "metadata": {},
   "outputs": [],
   "source": [
    "from src.text_extraction import *\n",
    "from src.file_dialog import *\n",
    "#from src.file_dialog import *\n",
    "# import numpy as np\n",
    "# import cv2\n",
    "# from tkinter import Tk, filedialog\n",
    "# from pathlib import Path\n",
    "# import os\n",
    "# from os import listdir\n",
    "# from os.path import isfile, join\n",
    "# from PIL import Image, ImageEnhance, ImageOps, ImageFilter\n",
    "# import PIL.Image\n",
    "# import pytesseract\n",
    "# pytesseract.pytesseract.tesseract_cmd = Path(r'C:\\Program Files\\Tesseract-OCR\\tesseract.exe') #Set Pytesseract path\n",
    "# #import keras_ocr\n",
    "import pandas as pd\n",
    "# import datetime\n",
    "\n",
    "import matplotlib.pyplot as plt"
   ]
  },
  {
   "cell_type": "markdown",
   "metadata": {},
   "source": [
    "# Image Processing References\n",
    "\n",
    "https://pythongeeks.org/image-processing-in-python/\n",
    "\n",
    "https://www.section.io/engineering-education/image-adjustment-to-higher-or-lower-resolution-using-python/\n",
    "\n",
    "https://www.kaggle.com/competitions/shopee-product-matching/discussion/225463"
   ]
  },
  {
   "cell_type": "code",
   "execution_count": 4,
   "metadata": {
    "scrolled": false
   },
   "outputs": [],
   "source": [
    "#Get Directory and Files Paths\n",
    "directory, files = get_directory_files(file_extension='.tiff')"
   ]
  },
  {
   "cell_type": "code",
   "execution_count": null,
   "metadata": {
    "scrolled": false
   },
   "outputs": [],
   "source": [
    "#Get number and frame number lists\n",
    "number_list = get_number_list(files)\n",
    "frame_number_list = get_frame_list(files)"
   ]
  },
  {
   "cell_type": "code",
   "execution_count": null,
   "metadata": {},
   "outputs": [],
   "source": [
    "#Set Dataframe\n",
    "video_data = pd.DataFrame(np.array(number_list), columns=['laser_measurement'])\n",
    "frame_number_df = pd.DataFrame(np.array(frame_number_list), columns=['frame_number'])"
   ]
  },
  {
   "cell_type": "code",
   "execution_count": 5,
   "metadata": {},
   "outputs": [],
   "source": [
    "#Get Arrays\n",
    "time_array = get_time_index(initial_time_str='2022-06-22 16:20:04', seconds=1, files=files)\n",
    "conveyor_array = get_conveyor_index(initial_conveyor=73600, distance=160, files=files)\n",
    "#Get DFs\n",
    "time_array_df = pd.DataFrame(time_array, columns=['time_index'])\n",
    "conveyor_df = pd.DataFrame(conveyor_array, columns=['conveyor_index'])"
   ]
  },
  {
   "cell_type": "code",
   "execution_count": 9,
   "metadata": {},
   "outputs": [],
   "source": [
    "#Join Dataframes\n",
    "video_data = video_data.join(frame_number_df)\n",
    "video_data = video_data.join(time_array_df)\n",
    "video_data = video_data.join(conveyor_df)"
   ]
  },
  {
   "cell_type": "code",
   "execution_count": 10,
   "metadata": {},
   "outputs": [],
   "source": [
    "#Save Dataframe\n",
    "save_dataframe('video_2_2022_06_22_data.csv', video_data)"
   ]
  }
 ],
 "metadata": {
  "kernelspec": {
   "display_name": "Python 3",
   "language": "python",
   "name": "python3"
  },
  "language_info": {
   "codemirror_mode": {
    "name": "ipython",
    "version": 3
   },
   "file_extension": ".py",
   "mimetype": "text/x-python",
   "name": "python",
   "nbconvert_exporter": "python",
   "pygments_lexer": "ipython3",
   "version": "3.8.3"
  }
 },
 "nbformat": 4,
 "nbformat_minor": 4
}
