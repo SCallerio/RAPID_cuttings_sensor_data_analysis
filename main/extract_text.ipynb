{
 "cells": [
  {
   "cell_type": "code",
   "execution_count": 49,
   "metadata": {},
   "outputs": [],
   "source": [
    "import numpy as np\n",
    "import cv2\n",
    "from tkinter import Tk, filedialog\n",
    "from pathlib import Path\n",
    "import os\n",
    "from PIL import Image\n",
    "import PIL.Image\n",
    "import pytesseract\n",
    "\n",
    "import matplotlib.pyplot as plt"
   ]
  },
  {
   "cell_type": "code",
   "execution_count": 2,
   "metadata": {},
   "outputs": [],
   "source": [
    "def initiate_tk_dialog():\n",
    "    root = Tk()  # pointing root to Tk() to use it as Tk() in program.\n",
    "    root.withdraw()  # Hides small tkinter window.\n",
    "    root.attributes('-topmost', True)  # Opened windows will be active. above all windows despite of selection.\n",
    "    return root\n",
    "\n",
    "def get_data_file(title: str, as_path = False):\n",
    "    root = initiate_tk_dialog()\n",
    "    if as_path == True:\n",
    "        data_file: Path = Path(filedialog.askopenfilename(title= title))  # Returns opened path as str\n",
    "    else:\n",
    "        data_file: str = str(filedialog.askopenfilename(title= title)) \n",
    "    root.destroy()\n",
    "    return data_file\n",
    "\n",
    "def get_directory(title: str, as_path = False):\n",
    "    root = initiate_tk_dialog()\n",
    "    if as_path == True:\n",
    "        directory: Path = Path(filedialog.askdirectory(title= title))\n",
    "    else:\n",
    "        directory: str = str(filedialog.askdirectory(title= title))\n",
    "    root.destroy()\n",
    "    return directory"
   ]
  },
  {
   "cell_type": "code",
   "execution_count": 32,
   "metadata": {},
   "outputs": [],
   "source": [
    "# import cv2\n",
    "# from pytesseract import image_to_string\n",
    "# import numpy as np\n",
    "\n",
    "def getText(filename):\n",
    "    img = cv2.imread(filename)\n",
    "    HSV_img = cv2.cvtColor(img,cv2.COLOR_BGR2HSV)\n",
    "    h,s,v = cv2.split(HSV_img)\n",
    "    v = cv2.GaussianBlur(v, (1,1), 0)\n",
    "    thresh = cv2.threshold(v, 0, 255, cv2.THRESH_BINARY_INV + cv2.THRESH_OTSU)[1]\n",
    "    cv2.imwrite('{}.png'.format(filename),thresh)\n",
    "    kernel = cv2.getStructuringElement(cv2.MORPH_RECT, ksize=(1, 2))\n",
    "    thresh = cv2.dilate(thresh, kernel)\n",
    "    txt = pytesseract.image_to_string(thresh, config=\"--psm 6 digits\")\n",
    "    return txt\n",
    "    \n",
    "\n",
    "# text = getText('WYOtF.png')\n",
    "# print(text)\n",
    "# text = getText('0Oqfr.png')\n",
    "# print(text)\n",
    "\n"
   ]
  },
  {
   "cell_type": "code",
   "execution_count": 77,
   "metadata": {},
   "outputs": [],
   "source": [
    "img = cv2.imread(get_data_file('Get Image', as_path=False))\n",
    "HSV_img = cv2.cvtColor(img,cv2.COLOR_BGR2HSV)\n",
    "h,s,v = cv2.split(HSV_img)\n",
    "v = cv2.GaussianBlur(v, (1,1), 0)\n",
    "thresh = cv2.threshold(v, 0, 255, cv2.THRESH_BINARY_INV + cv2.THRESH_OTSU)[1]\n",
    "cv2.imwrite('{}.png'.format(filename),thresh)\n",
    "kernel = cv2.getStructuringElement(cv2.MORPH_RECT, ksize=(1, 2))\n",
    "thresh = cv2.dilate(thresh, kernel)\n",
    "txt = pytesseract.image_to_string(thresh)#, config=\"--psm 6 digits\")"
   ]
  },
  {
   "cell_type": "code",
   "execution_count": 78,
   "metadata": {},
   "outputs": [
    {
     "data": {
      "text/plain": [
       "'2022-\\noak\\n2002-1\\n2022-1\\n\\n3622\\n\\n6-25\\n5-26\\n2-26\\n06-25\\nos 28\\n\\nan\\nu\\n11\\niL\\n\\n02 236:\\n02286\\n2:53\\n03:01\\n03.08.\\n\\nat\\na\\n\\npad\\n423\\nS13\\n\\n0.988127\\n@.aa1nad\\n9.aa1977\\no.aazvis\\n9 2a289q\\n'"
      ]
     },
     "execution_count": 78,
     "metadata": {},
     "output_type": "execute_result"
    }
   ],
   "source": [
    "txt"
   ]
  },
  {
   "cell_type": "code",
   "execution_count": 76,
   "metadata": {},
   "outputs": [
    {
     "name": "stdout",
     "output_type": "stream",
     "text": [
      "@.440127\n",
      "e.ea10a3\n",
      "0.401977\n",
      "\n",
      "Npeeitort\n",
      "\n"
     ]
    }
   ],
   "source": [
    "img = get_data_file('Get Image', as_path=False)\n",
    "img = PIL.Image.open(img).convert(\"RGB\")\n",
    "pytesseract.pytesseract.tesseract_cmd = Path(r'C:\\Program Files\\Tesseract-OCR\\tesseract.exe')\n",
    "txt = pytesseract.image_to_string(img,\n",
    "                           lang='eng',\n",
    "                           timeout=5)\n",
    "print(txt)"
   ]
  },
  {
   "cell_type": "code",
   "execution_count": 70,
   "metadata": {},
   "outputs": [
    {
     "data": {
      "text/plain": [
       "b'.988327\\n@.\\xc2\\xa2a1043\\n0.441977\\n\\n9 443896\\n'"
      ]
     },
     "execution_count": 70,
     "metadata": {},
     "output_type": "execute_result"
    }
   ],
   "source": [
    "txt.encode(encoding = 'UTF-8', errors = 'strict')"
   ]
  },
  {
   "cell_type": "code",
   "execution_count": 79,
   "metadata": {},
   "outputs": [],
   "source": [
    "txt = txt.split(sep='\\n\\n')"
   ]
  },
  {
   "cell_type": "code",
   "execution_count": 80,
   "metadata": {},
   "outputs": [],
   "source": [
    "empty_list = []\n",
    "for n in txt:\n",
    "    empty_list.append(n.split('\\n'))"
   ]
  },
  {
   "cell_type": "code",
   "execution_count": 81,
   "metadata": {},
   "outputs": [
    {
     "data": {
      "text/plain": [
       "[['2022-', 'oak', '2002-1', '2022-1'],\n",
       " ['3622'],\n",
       " ['6-25', '5-26', '2-26', '06-25', 'os 28'],\n",
       " ['an', 'u', '11', 'iL'],\n",
       " ['02 236:', '02286', '2:53', '03:01', '03.08.'],\n",
       " ['at', 'a'],\n",
       " ['pad', '423', 'S13'],\n",
       " ['0.988127', '@.aa1nad', '9.aa1977', 'o.aazvis', '9 2a289q', '']]"
      ]
     },
     "execution_count": 81,
     "metadata": {},
     "output_type": "execute_result"
    }
   ],
   "source": [
    "empty_list"
   ]
  },
  {
   "cell_type": "code",
   "execution_count": 21,
   "metadata": {},
   "outputs": [],
   "source": [
    "img = get_data_file('Get Image', as_path=False)\n",
    "img = cv2.imread(\"input_image.png\", 0)\n",
    "ret, thresh = cv2.threshold(img, 10, 255, cv2.THRESH_OTSU)"
   ]
  },
  {
   "cell_type": "code",
   "execution_count": 28,
   "metadata": {},
   "outputs": [
    {
     "ename": "TypeError",
     "evalue": "'NoneType' object is not subscriptable",
     "output_type": "error",
     "traceback": [
      "\u001b[1;31m---------------------------------------------------------------------------\u001b[0m",
      "\u001b[1;31mTypeError\u001b[0m                                 Traceback (most recent call last)",
      "\u001b[1;32m<ipython-input-28-e80146f7d9d7>\u001b[0m in \u001b[0;36m<module>\u001b[1;34m\u001b[0m\n\u001b[0;32m      1\u001b[0m \u001b[0mdirectory\u001b[0m \u001b[1;33m=\u001b[0m \u001b[0mget_directory\u001b[0m\u001b[1;33m(\u001b[0m\u001b[1;34m'Select Save Directory'\u001b[0m\u001b[1;33m,\u001b[0m \u001b[0mas_path\u001b[0m\u001b[1;33m=\u001b[0m \u001b[1;32mFalse\u001b[0m\u001b[1;33m)\u001b[0m\u001b[1;33m\u001b[0m\u001b[1;33m\u001b[0m\u001b[0m\n\u001b[0;32m      2\u001b[0m \u001b[0mfilename\u001b[0m \u001b[1;33m=\u001b[0m \u001b[0mdirectory\u001b[0m \u001b[1;33m+\u001b[0m \u001b[1;34m'\\output.png'\u001b[0m\u001b[1;33m\u001b[0m\u001b[1;33m\u001b[0m\u001b[0m\n\u001b[1;32m----> 3\u001b[1;33m \u001b[0mcv2\u001b[0m\u001b[1;33m.\u001b[0m\u001b[0mimwrite\u001b[0m\u001b[1;33m(\u001b[0m\u001b[0mfilename\u001b[0m\u001b[1;33m,\u001b[0m \u001b[0mimg\u001b[0m\u001b[1;33m[\u001b[0m\u001b[0mthresh\u001b[0m\u001b[1;33m]\u001b[0m\u001b[1;33m)\u001b[0m\u001b[1;33m\u001b[0m\u001b[1;33m\u001b[0m\u001b[0m\n\u001b[0m",
      "\u001b[1;31mTypeError\u001b[0m: 'NoneType' object is not subscriptable"
     ]
    }
   ],
   "source": [
    "directory = get_directory('Select Save Directory', as_path= False)\n",
    "filename = directory + '\\output.png'\n",
    "cv2.imwrite(filename, img[thresh])"
   ]
  },
  {
   "cell_type": "code",
   "execution_count": 42,
   "metadata": {},
   "outputs": [
    {
     "ename": "error",
     "evalue": "OpenCV(4.6.0) D:\\a\\opencv-python\\opencv-python\\opencv\\modules\\imgproc\\src\\thresh.cpp:1555: error: (-2:Unspecified error) in function 'double __cdecl cv::threshold(const class cv::_InputArray &,const class cv::_OutputArray &,double,double,int)'\n> THRESH_OTSU mode:\n>     'src_type == CV_8UC1 || src_type == CV_16UC1'\n> where\n>     'src_type' is 16 (CV_8UC3)\n",
     "output_type": "error",
     "traceback": [
      "\u001b[1;31m---------------------------------------------------------------------------\u001b[0m",
      "\u001b[1;31merror\u001b[0m                                     Traceback (most recent call last)",
      "\u001b[1;32m<ipython-input-42-13472b38b37e>\u001b[0m in \u001b[0;36m<module>\u001b[1;34m\u001b[0m\n\u001b[0;32m      1\u001b[0m \u001b[0mimg_path\u001b[0m \u001b[1;33m=\u001b[0m \u001b[0mget_data_file\u001b[0m\u001b[1;33m(\u001b[0m\u001b[1;34m'Select File'\u001b[0m\u001b[1;33m,\u001b[0m \u001b[0mas_path\u001b[0m\u001b[1;33m=\u001b[0m \u001b[1;32mFalse\u001b[0m\u001b[1;33m)\u001b[0m\u001b[1;33m\u001b[0m\u001b[1;33m\u001b[0m\u001b[0m\n\u001b[0;32m      2\u001b[0m \u001b[0mimg\u001b[0m \u001b[1;33m=\u001b[0m \u001b[0mcv2\u001b[0m\u001b[1;33m.\u001b[0m\u001b[0mimread\u001b[0m\u001b[1;33m(\u001b[0m\u001b[0mimg_path\u001b[0m\u001b[1;33m)\u001b[0m\u001b[1;33m\u001b[0m\u001b[1;33m\u001b[0m\u001b[0m\n\u001b[1;32m----> 3\u001b[1;33m \u001b[0mconvert_bin\u001b[0m\u001b[1;33m,\u001b[0m\u001b[0mgrey_scale\u001b[0m \u001b[1;33m=\u001b[0m \u001b[0mcv2\u001b[0m\u001b[1;33m.\u001b[0m\u001b[0mthreshold\u001b[0m\u001b[1;33m(\u001b[0m\u001b[0mimg\u001b[0m\u001b[1;33m,\u001b[0m\u001b[1;36m128\u001b[0m\u001b[1;33m,\u001b[0m\u001b[1;36m255\u001b[0m\u001b[1;33m,\u001b[0m\u001b[0mcv2\u001b[0m\u001b[1;33m.\u001b[0m\u001b[0mTHRESH_BINARY\u001b[0m \u001b[1;33m|\u001b[0m \u001b[0mcv2\u001b[0m\u001b[1;33m.\u001b[0m\u001b[0mTHRESH_OTSU\u001b[0m\u001b[1;33m)\u001b[0m\u001b[1;33m\u001b[0m\u001b[1;33m\u001b[0m\u001b[0m\n\u001b[0m\u001b[0;32m      4\u001b[0m \u001b[0mgrey_scale\u001b[0m \u001b[1;33m=\u001b[0m \u001b[1;36m255\u001b[0m\u001b[1;33m-\u001b[0m\u001b[0mgrey_scale\u001b[0m\u001b[1;33m\u001b[0m\u001b[1;33m\u001b[0m\u001b[0m\n\u001b[0;32m      5\u001b[0m \u001b[0mgrey_graph\u001b[0m \u001b[1;33m=\u001b[0m \u001b[0mplt\u001b[0m\u001b[1;33m.\u001b[0m\u001b[0mimshow\u001b[0m\u001b[1;33m(\u001b[0m\u001b[0mgrey_scale\u001b[0m\u001b[1;33m,\u001b[0m\u001b[0mcmap\u001b[0m\u001b[1;33m=\u001b[0m\u001b[1;34m'gray'\u001b[0m\u001b[1;33m)\u001b[0m\u001b[1;33m\u001b[0m\u001b[1;33m\u001b[0m\u001b[0m\n",
      "\u001b[1;31merror\u001b[0m: OpenCV(4.6.0) D:\\a\\opencv-python\\opencv-python\\opencv\\modules\\imgproc\\src\\thresh.cpp:1555: error: (-2:Unspecified error) in function 'double __cdecl cv::threshold(const class cv::_InputArray &,const class cv::_OutputArray &,double,double,int)'\n> THRESH_OTSU mode:\n>     'src_type == CV_8UC1 || src_type == CV_16UC1'\n> where\n>     'src_type' is 16 (CV_8UC3)\n"
     ]
    }
   ],
   "source": [
    "img_path = get_data_file('Select File', as_path= False)\n",
    "img = cv2.imread(img_path)\n",
    "convert_bin,grey_scale = cv2.threshold(img,128,255,cv2.THRESH_BINARY | cv2.THRESH_OTSU)\n",
    "grey_scale = 255-grey_scale\n",
    "grey_graph = plt.imshow(grey_scale,cmap='gray')\n",
    "plt.show()"
   ]
  },
  {
   "cell_type": "code",
   "execution_count": 43,
   "metadata": {},
   "outputs": [
    {
     "data": {
      "text/plain": [
       "'182022-06-221614191.104-860\\n1202022-06-22-16141206391.27278-068\\n200202-228\\n\\n49202208-2216422-7261-286608\\n60.2022-06-22-16-41-33-7751.274540-06\\n'"
      ]
     },
     "execution_count": 43,
     "metadata": {},
     "output_type": "execute_result"
    }
   ],
   "source": [
    "img_path = get_data_file('Select File', as_path= False)\n",
    "getText(img_path)"
   ]
  },
  {
   "cell_type": "code",
   "execution_count": 46,
   "metadata": {},
   "outputs": [],
   "source": [
    "#Function to Extract Text\n",
    "def TxtExtract(directory):\n",
    "    \"\"\"\n",
    "    This function will handle the core OCR processing of images.\n",
    "    \"\"\"\n",
    "    \n",
    "    for subdir, dirs, files in os.walk(directory):\n",
    "        for file in files:\n",
    "            filepath = subdir + os.sep + file\n",
    "            text = pytesseract.image_to_string(Image.open(filepath), timeout=5)\n",
    "            if not text:\n",
    "                ex_txt.extend([[file, \"blank\"]])\n",
    "            else:   \n",
    "                ex_txt.extend([[file, text]])\n",
    "                \n",
    "    fol_nm = os.path.split(os.path.dirname(subdir))[-1]\n",
    "    \n",
    "    print(f\"Text Extracted from the files in '{fol_nm}' folder & saved to list..\")"
   ]
  },
  {
   "cell_type": "code",
   "execution_count": 51,
   "metadata": {},
   "outputs": [
    {
     "name": "stdout",
     "output_type": "stream",
     "text": [
      "Text Extracted from the files in '01_Cuttings Sensor' folder & saved to list..\n"
     ]
    }
   ],
   "source": [
    "ex_txt = []   #list to store the extracted text\n",
    "TxtExtract(directory)"
   ]
  },
  {
   "cell_type": "code",
   "execution_count": null,
   "metadata": {},
   "outputs": [],
   "source": []
  }
 ],
 "metadata": {
  "kernelspec": {
   "display_name": "Python 3",
   "language": "python",
   "name": "python3"
  },
  "language_info": {
   "codemirror_mode": {
    "name": "ipython",
    "version": 3
   },
   "file_extension": ".py",
   "mimetype": "text/x-python",
   "name": "python",
   "nbconvert_exporter": "python",
   "pygments_lexer": "ipython3",
   "version": "3.8.3"
  }
 },
 "nbformat": 4,
 "nbformat_minor": 4
}
