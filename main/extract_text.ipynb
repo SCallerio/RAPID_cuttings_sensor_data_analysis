{
 "cells": [
  {
   "cell_type": "code",
   "execution_count": 1,
   "metadata": {},
   "outputs": [],
   "source": [
    "import numpy as np\n",
    "import cv2\n",
    "from tkinter import Tk, filedialog\n",
    "from pathlib import Path\n",
    "import os\n",
    "from PIL import Image, ImageEnhance, ImageOps, ImageFilter\n",
    "import PIL.Image\n",
    "import pytesseract\n",
    "#import keras_ocr\n",
    "\n",
    "import matplotlib.pyplot as plt"
   ]
  },
  {
   "cell_type": "code",
   "execution_count": 2,
   "metadata": {},
   "outputs": [],
   "source": [
    "def initiate_tk_dialog():\n",
    "    root = Tk()  # pointing root to Tk() to use it as Tk() in program.\n",
    "    root.withdraw()  # Hides small tkinter window.\n",
    "    root.attributes('-topmost', True)  # Opened windows will be active. above all windows despite of selection.\n",
    "    return root\n",
    "\n",
    "def get_data_file(title: str, as_path = False):\n",
    "    root = initiate_tk_dialog()\n",
    "    if as_path == True:\n",
    "        data_file: Path = Path(filedialog.askopenfilename(title= title))  # Returns opened path as str\n",
    "    else:\n",
    "        data_file: str = str(filedialog.askopenfilename(title= title)) \n",
    "    root.destroy()\n",
    "    return data_file\n",
    "\n",
    "def get_directory(title: str, as_path = False):\n",
    "    root = initiate_tk_dialog()\n",
    "    if as_path == True:\n",
    "        directory: Path = Path(filedialog.askdirectory(title= title))\n",
    "    else:\n",
    "        directory: str = str(filedialog.askdirectory(title= title))\n",
    "    root.destroy()\n",
    "    return directory"
   ]
  },
  {
   "cell_type": "code",
   "execution_count": null,
   "metadata": {},
   "outputs": [],
   "source": [
    "# import cv2\n",
    "# from pytesseract import image_to_string\n",
    "# import numpy as np\n",
    "\n",
    "def getText(filename):\n",
    "    img = cv2.imread(filename)\n",
    "    HSV_img = cv2.cvtColor(img,cv2.COLOR_BGR2HSV)\n",
    "    h,s,v = cv2.split(HSV_img)\n",
    "    v = cv2.GaussianBlur(v, (1,1), 0)\n",
    "    thresh = cv2.threshold(v, 0, 255, cv2.THRESH_BINARY_INV + cv2.THRESH_OTSU)[1]\n",
    "    cv2.imwrite('{}.png'.format(filename),thresh)\n",
    "    kernel = cv2.getStructuringElement(cv2.MORPH_RECT, ksize=(1, 2))\n",
    "    thresh = cv2.dilate(thresh, kernel)\n",
    "    txt = pytesseract.image_to_string(thresh, config=\"--psm 6 digits\")\n",
    "    return txt\n",
    "    \n",
    "\n",
    "# text = getText('WYOtF.png')\n",
    "# print(text)\n",
    "# text = getText('0Oqfr.png')\n",
    "# print(text)\n",
    "\n"
   ]
  },
  {
   "cell_type": "code",
   "execution_count": 60,
   "metadata": {},
   "outputs": [],
   "source": [
    "#get_data_file('Get Image', as_path=False)\n",
    "img_path = r'C:\\Users\\SaANTIAGO\\Google Drive Streaming\\My Drive\\18_UT_RAPID\\cuttings_sensor\\img\\Upscale_Test\\upscale_test_log_frame_1.tiff'"
   ]
  },
  {
   "cell_type": "code",
   "execution_count": 61,
   "metadata": {},
   "outputs": [
    {
     "data": {
      "text/plain": [
       "{'compression': 'tiff_lzw', 'dpi': (1, 1), 'resolution': (1, 1)}"
      ]
     },
     "execution_count": 61,
     "metadata": {},
     "output_type": "execute_result"
    }
   ],
   "source": [
    "img = img_path #get_data_file('Get Image', as_path=False)\n",
    "img = PIL.Image.open(img)\n",
    "img.info"
   ]
  },
  {
   "cell_type": "code",
   "execution_count": 81,
   "metadata": {},
   "outputs": [],
   "source": [
    "img = img_path #get_data_file('Get Image', as_path=False)\n",
    "img = PIL.Image.open(img)#.convert(\"L\") #Convert to gray-scale\n",
    "img = ImageOps.invert(img) #Invert\n",
    "# size_factor = 3 #Size factor to resize image\n",
    "# img = img.resize((img.size[0] * size_factor, img.size[1] * size_factor)) #Resize image\n",
    "\n",
    "curr_sharpness = ImageEnhance.Sharpness(img)\n",
    "new_sharpness = 2\n",
    "\n",
    "# Sharpness enhanced by a factor of 8.3\n",
    "img_sharped = curr_sharpness.enhance(new_sharpness)\n",
    "  \n",
    "# # shows updated image in image viewer\n",
    "# #img_sharped\n",
    "\n",
    "# img_sharped.show()"
   ]
  },
  {
   "cell_type": "code",
   "execution_count": 82,
   "metadata": {},
   "outputs": [
    {
     "data": {
      "image/png": "[encoded data removed]",
      "text/plain": [
       "<PIL.Image.Image image mode=RGB size=320x43>"
      ]
     },
     "execution_count": 82,
     "metadata": {},
     "output_type": "execute_result"
    }
   ],
   "source": [
    "img"
   ]
  },
  {
   "cell_type": "code",
   "execution_count": 83,
   "metadata": {},
   "outputs": [
    {
     "name": "stdout",
     "output_type": "stream",
     "text": [
      "@.436445\n",
      "\n"
     ]
    }
   ],
   "source": [
    "pytesseract.pytesseract.tesseract_cmd = Path(r'C:\\Program Files\\Tesseract-OCR\\tesseract.exe')\n",
    "txt = pytesseract.image_to_string(img,\n",
    "                                   lang='eng',\n",
    "                                   timeout=30,\n",
    "                                 config='--psm 7 ') #-c tessedit_char_whitelist=0123456789.,-: \")\n",
    "print(txt)"
   ]
  },
  {
   "cell_type": "code",
   "execution_count": 145,
   "metadata": {},
   "outputs": [],
   "source": [
    "img.save(r'C:\\Users\\SaANTIAGO\\Google Drive Streaming\\My Drive\\18_UT_RAPID\\cuttings_sensor\\img\\img.jpg')"
   ]
  },
  {
   "cell_type": "code",
   "execution_count": 127,
   "metadata": {},
   "outputs": [],
   "source": [
    "# im1 = img.filter(ImageFilter.BLUR)\n",
    "\n",
    "# im2 = img.filter(ImageFilter.MinFilter(3))\n",
    "im3 = img.filter(ImageFilter.MedianFilter) \n",
    "im3.show()"
   ]
  },
  {
   "cell_type": "markdown",
   "metadata": {},
   "source": [
    "### CV2"
   ]
  },
  {
   "cell_type": "code",
   "execution_count": 27,
   "metadata": {},
   "outputs": [
    {
     "data": {
      "text/plain": [
       "10"
      ]
     },
     "execution_count": 27,
     "metadata": {},
     "output_type": "execute_result"
    }
   ],
   "source": [
    "img = cv2.imread(img_path)\n",
    "scale_percent = 500 # percent of original size\n",
    "width = int(img.shape[1] * scale_percent / 100)\n",
    "height = int(img.shape[0] * scale_percent / 100)\n",
    "dim = (width, height)\n",
    "  \n",
    "# resize image\n",
    "img = cv2.resize(img, dim, interpolation = cv2.INTER_AREA)\n",
    "HSV_img = cv2.cvtColor(img,cv2.COLOR_BGR2GRAY)#COLOR_BGR2HSV)\n",
    "# h,s,v = cv2.split(HSV_img)\n",
    "# v = cv2.GaussianBlur(v, (1,1), 0)\n",
    "thresh = cv2.threshold(HSV_img, 0, 255, cv2.THRESH_OTSU)[1]\n",
    "#cv2.imwrite('{}.png'.format(filename),thresh)\n",
    "#kernel = cv2.getStructuringElement(cv2.MORPH_RECT, ksize=(1, 2))\n",
    "#thresh = cv2.dilate(thresh, kernel)\n",
    "# txt = pytesseract.image_to_string(thresh)#, config=\"--psm 6 digits\")\n",
    "# print(txt)\n",
    "cv2.imshow('Show', thresh)\n",
    "cv2.waitKey(0)"
   ]
  },
  {
   "cell_type": "code",
   "execution_count": 28,
   "metadata": {},
   "outputs": [
    {
     "name": "stdout",
     "output_type": "stream",
     "text": [
      "FSoRH, FRSP-BO-22 LO: 2B BG doo |B Betas\n",
      "\n"
     ]
    }
   ],
   "source": [
    "txt = pytesseract.image_to_string(thresh, timeout=15)#, config=\"--psm 7 -c tessedit_char_whitelist=0123456789,- \")\n",
    "print(txt)"
   ]
  },
  {
   "cell_type": "code",
   "execution_count": 136,
   "metadata": {},
   "outputs": [
    {
     "ename": "NameError",
     "evalue": "name 'keras_ocr' is not defined",
     "output_type": "error",
     "traceback": [
      "\u001b[1;31m---------------------------------------------------------------------------\u001b[0m",
      "\u001b[1;31mNameError\u001b[0m                                 Traceback (most recent call last)",
      "\u001b[1;32m<ipython-input-136-6b85d751285a>\u001b[0m in \u001b[0;36m<module>\u001b[1;34m\u001b[0m\n\u001b[1;32m----> 1\u001b[1;33m \u001b[0mpipeline\u001b[0m \u001b[1;33m=\u001b[0m \u001b[0mkeras_ocr\u001b[0m\u001b[1;33m.\u001b[0m\u001b[0mpipeline\u001b[0m\u001b[1;33m.\u001b[0m\u001b[0mPipeline\u001b[0m\u001b[1;33m(\u001b[0m\u001b[1;33m)\u001b[0m\u001b[1;33m\u001b[0m\u001b[1;33m\u001b[0m\u001b[0m\n\u001b[0m",
      "\u001b[1;31mNameError\u001b[0m: name 'keras_ocr' is not defined"
     ]
    }
   ],
   "source": [
    "pipeline = keras_ocr.pipeline.Pipeline()\n",
    "images = [keras_ocr.tools.read(img)]\n",
    "# generate text predictions from the images\n",
    "prediction_groups = pipeline.recognize(images)\n",
    "predicted_image = prediction_groups[1]\n",
    "for text, box in predicted_image:\n",
    "    print(text)"
   ]
  },
  {
   "cell_type": "code",
   "execution_count": 34,
   "metadata": {},
   "outputs": [
    {
     "ename": "error",
     "evalue": "OpenCV(4.6.0) :-1: error: (-5:Bad argument) in function 'cvtColor'\n> Overload resolution failed:\n>  - src is not a numpy array, neither a scalar\n>  - Expected Ptr<cv::UMat> for argument 'src'\n",
     "output_type": "error",
     "traceback": [
      "\u001b[1;31m---------------------------------------------------------------------------\u001b[0m",
      "\u001b[1;31merror\u001b[0m                                     Traceback (most recent call last)",
      "\u001b[1;32m<ipython-input-34-506bdaeb53d3>\u001b[0m in \u001b[0;36m<module>\u001b[1;34m\u001b[0m\n\u001b[1;32m----> 1\u001b[1;33m \u001b[0mHSV_img\u001b[0m \u001b[1;33m=\u001b[0m \u001b[0mcv2\u001b[0m\u001b[1;33m.\u001b[0m\u001b[0mcvtColor\u001b[0m\u001b[1;33m(\u001b[0m\u001b[0mimg\u001b[0m\u001b[1;33m,\u001b[0m\u001b[0mcv2\u001b[0m\u001b[1;33m.\u001b[0m\u001b[0mCOLOR_BGR2HSV\u001b[0m\u001b[1;33m)\u001b[0m\u001b[1;33m\u001b[0m\u001b[1;33m\u001b[0m\u001b[0m\n\u001b[0m\u001b[0;32m      2\u001b[0m \u001b[0mthresh\u001b[0m \u001b[1;33m=\u001b[0m \u001b[0mcv2\u001b[0m\u001b[1;33m.\u001b[0m\u001b[0mthreshold\u001b[0m\u001b[1;33m(\u001b[0m\u001b[0mHSV_img\u001b[0m\u001b[1;33m,\u001b[0m \u001b[1;36m0\u001b[0m\u001b[1;33m,\u001b[0m \u001b[1;36m255\u001b[0m\u001b[1;33m,\u001b[0m \u001b[0mcv2\u001b[0m\u001b[1;33m.\u001b[0m\u001b[0mTHRESH_BINARY_INV\u001b[0m \u001b[1;33m|\u001b[0m \u001b[0mcv2\u001b[0m\u001b[1;33m.\u001b[0m\u001b[0mTHRESH_OTSU\u001b[0m\u001b[1;33m)\u001b[0m\u001b[1;33m[\u001b[0m\u001b[1;36m1\u001b[0m\u001b[1;33m]\u001b[0m\u001b[1;33m\u001b[0m\u001b[1;33m\u001b[0m\u001b[0m\n",
      "\u001b[1;31merror\u001b[0m: OpenCV(4.6.0) :-1: error: (-5:Bad argument) in function 'cvtColor'\n> Overload resolution failed:\n>  - src is not a numpy array, neither a scalar\n>  - Expected Ptr<cv::UMat> for argument 'src'\n"
     ]
    }
   ],
   "source": [
    "HSV_img = cv2.cvtColor(img,cv2.COLOR_BGR2HSV)\n",
    "thresh = cv2.threshold(HSV_img, 0, 255, cv2.THRESH_BINARY_INV | cv2.THRESH_OTSU)[1]\n"
   ]
  },
  {
   "cell_type": "code",
   "execution_count": 47,
   "metadata": {},
   "outputs": [],
   "source": [
    "df = pytesseract.image_to_data(img, output_type='data.frame')"
   ]
  },
  {
   "cell_type": "code",
   "execution_count": 48,
   "metadata": {},
   "outputs": [
    {
     "data": {
      "text/html": [
       "<div>\n",
       "<style scoped>\n",
       "    .dataframe tbody tr th:only-of-type {\n",
       "        vertical-align: middle;\n",
       "    }\n",
       "\n",
       "    .dataframe tbody tr th {\n",
       "        vertical-align: top;\n",
       "    }\n",
       "\n",
       "    .dataframe thead th {\n",
       "        text-align: right;\n",
       "    }\n",
       "</style>\n",
       "<table border=\"1\" class=\"dataframe\">\n",
       "  <thead>\n",
       "    <tr style=\"text-align: right;\">\n",
       "      <th></th>\n",
       "      <th>level</th>\n",
       "      <th>page_num</th>\n",
       "      <th>block_num</th>\n",
       "      <th>par_num</th>\n",
       "      <th>line_num</th>\n",
       "      <th>word_num</th>\n",
       "      <th>left</th>\n",
       "      <th>top</th>\n",
       "      <th>width</th>\n",
       "      <th>height</th>\n",
       "      <th>conf</th>\n",
       "      <th>text</th>\n",
       "    </tr>\n",
       "  </thead>\n",
       "  <tbody>\n",
       "    <tr>\n",
       "      <th>0</th>\n",
       "      <td>1</td>\n",
       "      <td>1</td>\n",
       "      <td>0</td>\n",
       "      <td>0</td>\n",
       "      <td>0</td>\n",
       "      <td>0</td>\n",
       "      <td>0</td>\n",
       "      <td>0</td>\n",
       "      <td>750</td>\n",
       "      <td>33</td>\n",
       "      <td>-1.000000</td>\n",
       "      <td>NaN</td>\n",
       "    </tr>\n",
       "    <tr>\n",
       "      <th>1</th>\n",
       "      <td>2</td>\n",
       "      <td>1</td>\n",
       "      <td>1</td>\n",
       "      <td>0</td>\n",
       "      <td>0</td>\n",
       "      <td>0</td>\n",
       "      <td>2</td>\n",
       "      <td>6</td>\n",
       "      <td>688</td>\n",
       "      <td>24</td>\n",
       "      <td>-1.000000</td>\n",
       "      <td>NaN</td>\n",
       "    </tr>\n",
       "    <tr>\n",
       "      <th>2</th>\n",
       "      <td>3</td>\n",
       "      <td>1</td>\n",
       "      <td>1</td>\n",
       "      <td>1</td>\n",
       "      <td>0</td>\n",
       "      <td>0</td>\n",
       "      <td>2</td>\n",
       "      <td>6</td>\n",
       "      <td>688</td>\n",
       "      <td>24</td>\n",
       "      <td>-1.000000</td>\n",
       "      <td>NaN</td>\n",
       "    </tr>\n",
       "    <tr>\n",
       "      <th>3</th>\n",
       "      <td>4</td>\n",
       "      <td>1</td>\n",
       "      <td>1</td>\n",
       "      <td>1</td>\n",
       "      <td>1</td>\n",
       "      <td>0</td>\n",
       "      <td>2</td>\n",
       "      <td>6</td>\n",
       "      <td>688</td>\n",
       "      <td>24</td>\n",
       "      <td>-1.000000</td>\n",
       "      <td>NaN</td>\n",
       "    </tr>\n",
       "    <tr>\n",
       "      <th>4</th>\n",
       "      <td>5</td>\n",
       "      <td>1</td>\n",
       "      <td>1</td>\n",
       "      <td>1</td>\n",
       "      <td>1</td>\n",
       "      <td>1</td>\n",
       "      <td>2</td>\n",
       "      <td>6</td>\n",
       "      <td>91</td>\n",
       "      <td>24</td>\n",
       "      <td>83.297653</td>\n",
       "      <td>73606,</td>\n",
       "    </tr>\n",
       "    <tr>\n",
       "      <th>5</th>\n",
       "      <td>5</td>\n",
       "      <td>1</td>\n",
       "      <td>1</td>\n",
       "      <td>1</td>\n",
       "      <td>1</td>\n",
       "      <td>2</td>\n",
       "      <td>132</td>\n",
       "      <td>6</td>\n",
       "      <td>156</td>\n",
       "      <td>18</td>\n",
       "      <td>64.726341</td>\n",
       "      <td>2622-66-22</td>\n",
       "    </tr>\n",
       "    <tr>\n",
       "      <th>6</th>\n",
       "      <td>5</td>\n",
       "      <td>1</td>\n",
       "      <td>1</td>\n",
       "      <td>1</td>\n",
       "      <td>1</td>\n",
       "      <td>3</td>\n",
       "      <td>308</td>\n",
       "      <td>6</td>\n",
       "      <td>190</td>\n",
       "      <td>18</td>\n",
       "      <td>88.043762</td>\n",
       "      <td>16:26:64:499</td>\n",
       "    </tr>\n",
       "    <tr>\n",
       "      <th>7</th>\n",
       "      <td>5</td>\n",
       "      <td>1</td>\n",
       "      <td>1</td>\n",
       "      <td>1</td>\n",
       "      <td>1</td>\n",
       "      <td>4</td>\n",
       "      <td>530</td>\n",
       "      <td>6</td>\n",
       "      <td>160</td>\n",
       "      <td>19</td>\n",
       "      <td>13.366486</td>\n",
       "      <td>6.86233643</td>\n",
       "    </tr>\n",
       "  </tbody>\n",
       "</table>\n",
       "</div>"
      ],
      "text/plain": [
       "   level  page_num  block_num  par_num  line_num  word_num  left  top  width  \\\n",
       "0      1         1          0        0         0         0     0    0    750   \n",
       "1      2         1          1        0         0         0     2    6    688   \n",
       "2      3         1          1        1         0         0     2    6    688   \n",
       "3      4         1          1        1         1         0     2    6    688   \n",
       "4      5         1          1        1         1         1     2    6     91   \n",
       "5      5         1          1        1         1         2   132    6    156   \n",
       "6      5         1          1        1         1         3   308    6    190   \n",
       "7      5         1          1        1         1         4   530    6    160   \n",
       "\n",
       "   height       conf          text  \n",
       "0      33  -1.000000           NaN  \n",
       "1      24  -1.000000           NaN  \n",
       "2      24  -1.000000           NaN  \n",
       "3      24  -1.000000           NaN  \n",
       "4      24  83.297653        73606,  \n",
       "5      18  64.726341    2622-66-22  \n",
       "6      18  88.043762  16:26:64:499  \n",
       "7      19  13.366486    6.86233643  "
      ]
     },
     "execution_count": 48,
     "metadata": {},
     "output_type": "execute_result"
    }
   ],
   "source": [
    "df"
   ]
  },
  {
   "cell_type": "code",
   "execution_count": 21,
   "metadata": {},
   "outputs": [],
   "source": [
    "img = cv2.imread(get_data_file('Get Image', as_path=False), cv2.IMREAD_UNCHANGED)\n"
   ]
  },
  {
   "cell_type": "code",
   "execution_count": 25,
   "metadata": {},
   "outputs": [
    {
     "name": "stdout",
     "output_type": "stream",
     "text": [
      "Original Dimensions :  (11, 250, 3)\n",
      "Resized Dimensions :  (22, 500, 3)\n"
     ]
    }
   ],
   "source": [
    "print('Original Dimensions : ',img.shape)\n",
    " \n",
    "scale_percent = 200 # percent of original size\n",
    "width = int(img.shape[1] * scale_percent / 100)\n",
    "height = int(img.shape[0] * scale_percent / 100)\n",
    "dim = (width, height)\n",
    "  \n",
    "# resize image\n",
    "resized = cv2.resize(img, dim, interpolation = cv2.INTER_AREA)\n",
    " \n",
    "print('Resized Dimensions : ',resized.shape)\n",
    " \n",
    "cv2.imshow(\"Resized image\", resized)\n",
    "cv2.waitKey(0)\n",
    "cv2.destroyAllWindows()"
   ]
  },
  {
   "cell_type": "code",
   "execution_count": null,
   "metadata": {},
   "outputs": [],
   "source": [
    "txt = txt.split(sep='\\n\\n')"
   ]
  },
  {
   "cell_type": "code",
   "execution_count": null,
   "metadata": {},
   "outputs": [],
   "source": [
    "empty_list = []\n",
    "for n in txt:\n",
    "    empty_list.append(n.split('\\n'))"
   ]
  },
  {
   "cell_type": "code",
   "execution_count": null,
   "metadata": {},
   "outputs": [],
   "source": [
    "empty_list"
   ]
  },
  {
   "cell_type": "code",
   "execution_count": null,
   "metadata": {},
   "outputs": [],
   "source": [
    "img = get_data_file('Get Image', as_path=False)\n",
    "img = cv2.imread(\"input_image.png\", 0)\n",
    "ret, thresh = cv2.threshold(img, 10, 255, cv2.THRESH_OTSU)"
   ]
  },
  {
   "cell_type": "code",
   "execution_count": null,
   "metadata": {},
   "outputs": [],
   "source": [
    "directory = get_directory('Select Save Directory', as_path= False)\n",
    "filename = directory + '\\output.png'\n",
    "cv2.imwrite(filename, img[thresh])"
   ]
  },
  {
   "cell_type": "code",
   "execution_count": null,
   "metadata": {},
   "outputs": [],
   "source": [
    "img_path = get_data_file('Select File', as_path= False)\n",
    "img = cv2.imread(img_path)\n",
    "convert_bin,grey_scale = cv2.threshold(img,128,255,cv2.THRESH_BINARY | cv2.THRESH_OTSU)\n",
    "grey_scale = 255-grey_scale\n",
    "grey_graph = plt.imshow(grey_scale,cmap='gray')\n",
    "plt.show()"
   ]
  },
  {
   "cell_type": "code",
   "execution_count": null,
   "metadata": {},
   "outputs": [],
   "source": [
    "img_path = get_data_file('Select File', as_path= False)\n",
    "getText(img_path)"
   ]
  },
  {
   "cell_type": "code",
   "execution_count": null,
   "metadata": {},
   "outputs": [],
   "source": [
    "#Function to Extract Text\n",
    "def TxtExtract(directory):\n",
    "    \"\"\"\n",
    "    This function will handle the core OCR processing of images.\n",
    "    \"\"\"\n",
    "    \n",
    "    for subdir, dirs, files in os.walk(directory):\n",
    "        for file in files:\n",
    "            filepath = subdir + os.sep + file\n",
    "            text = pytesseract.image_to_string(Image.open(filepath), timeout=5)\n",
    "            if not text:\n",
    "                ex_txt.extend([[file, \"blank\"]])\n",
    "            else:   \n",
    "                ex_txt.extend([[file, text]])\n",
    "                \n",
    "    fol_nm = os.path.split(os.path.dirname(subdir))[-1]\n",
    "    \n",
    "    print(f\"Text Extracted from the files in '{fol_nm}' folder & saved to list..\")"
   ]
  },
  {
   "cell_type": "code",
   "execution_count": null,
   "metadata": {},
   "outputs": [],
   "source": [
    "ex_txt = []   #list to store the extracted text\n",
    "TxtExtract(directory)"
   ]
  },
  {
   "cell_type": "code",
   "execution_count": null,
   "metadata": {},
   "outputs": [],
   "source": []
  }
 ],
 "metadata": {
  "kernelspec": {
   "display_name": "Python 3",
   "language": "python",
   "name": "python3"
  },
  "language_info": {
   "codemirror_mode": {
    "name": "ipython",
    "version": 3
   },
   "file_extension": ".py",
   "mimetype": "text/x-python",
   "name": "python",
   "nbconvert_exporter": "python",
   "pygments_lexer": "ipython3",
   "version": "3.8.3"
  }
 },
 "nbformat": 4,
 "nbformat_minor": 4
}
