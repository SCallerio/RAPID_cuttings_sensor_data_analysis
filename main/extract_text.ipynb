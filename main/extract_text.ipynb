{
 "cells": [
  {
   "cell_type": "code",
   "execution_count": 201,
   "metadata": {},
   "outputs": [],
   "source": [
    "import numpy as np\n",
    "import cv2\n",
    "from tkinter import Tk, filedialog\n",
    "from pathlib import Path\n",
    "import os\n",
    "from os import listdir\n",
    "from os.path import isfile, join\n",
    "from PIL import Image, ImageEnhance, ImageOps, ImageFilter\n",
    "import PIL.Image\n",
    "import pytesseract\n",
    "pytesseract.pytesseract.tesseract_cmd = Path(r'C:\\Program Files\\Tesseract-OCR\\tesseract.exe') #Set Pytesseract path\n",
    "#import keras_ocr\n",
    "import pandas as pd\n",
    "import datetime\n",
    "\n",
    "import matplotlib.pyplot as plt"
   ]
  },
  {
   "cell_type": "markdown",
   "metadata": {},
   "source": [
    "# Image Processing References\n",
    "\n",
    "https://pythongeeks.org/image-processing-in-python/\n",
    "\n",
    "https://www.section.io/engineering-education/image-adjustment-to-higher-or-lower-resolution-using-python/"
   ]
  },
  {
   "cell_type": "code",
   "execution_count": 2,
   "metadata": {},
   "outputs": [],
   "source": [
    "def initiate_tk_dialog():\n",
    "    root = Tk()  # pointing root to Tk() to use it as Tk() in program.\n",
    "    root.withdraw()  # Hides small tkinter window.\n",
    "    root.attributes('-topmost', True)  # Opened windows will be active. above all windows despite of selection.\n",
    "    return root\n",
    "\n",
    "def get_data_file(title: str, as_path = False):\n",
    "    root = initiate_tk_dialog()\n",
    "    if as_path == True:\n",
    "        data_file: Path = Path(filedialog.askopenfilename(title= title))  # Returns opened path as str\n",
    "    else:\n",
    "        data_file: str = str(filedialog.askopenfilename(title= title)) \n",
    "    root.destroy()\n",
    "    return data_file\n",
    "\n",
    "def get_directory(title: str, as_path = False):\n",
    "    root = initiate_tk_dialog()\n",
    "    if as_path == True:\n",
    "        directory: Path = Path(filedialog.askdirectory(title= title))\n",
    "    else:\n",
    "        directory: str = str(filedialog.askdirectory(title= title))\n",
    "    root.destroy()\n",
    "    return directory"
   ]
  },
  {
   "cell_type": "code",
   "execution_count": 133,
   "metadata": {},
   "outputs": [],
   "source": [
    "def get_directory_files(file_extension: str):\n",
    "    \"\"\"Look for files in directory with file extension as file_extension.\n",
    "    Returns directory path as string and list of absolute paths to files with matching extension.\n",
    "    file_extension: str, file extension\n",
    "    \"\"\"\n",
    "    directory = get_directory('Select Images Directory', as_path=False)\n",
    "    onlyfiles = [f for f in listdir(directory) if isfile(join(directory, f))]\n",
    "    files = list([])\n",
    "    for file in onlyfiles:\n",
    "         if file.endswith(file_extension):\n",
    "                file_path = '/'.join([directory, file])\n",
    "                files.append(file_path)\n",
    "    return directory, files"
   ]
  },
  {
   "cell_type": "code",
   "execution_count": 127,
   "metadata": {},
   "outputs": [],
   "source": [
    "def process_img(img_path: str, gray_scale = False):\n",
    "    \"\"\"Open image from img_path, invert.\n",
    "    Returns processed image.\n",
    "    img_path: absolute path to image file\n",
    "    gray_scale: Boolean, if True image will be converted to grayscale\n",
    "    \"\"\"\n",
    "    if gray_scale == True:\n",
    "        img = PIL.Image.open(img_path).convert(\"L\") #Convert to gray-scale\n",
    "    else:\n",
    "        img = PIL.Image.open(img_path)\n",
    "    img = ImageOps.invert(img) #Invert\n",
    "    return img"
   ]
  },
  {
   "cell_type": "code",
   "execution_count": 177,
   "metadata": {},
   "outputs": [],
   "source": [
    "def get_number_from_img(img, timeout = 15):\n",
    "    \"\"\"Get float number from image.\n",
    "    Returns float number.\n",
    "    img: processed image\n",
    "    timeout: pytesseract timeout value - default = 15\n",
    "    \"\"\"\n",
    "    #Run OCR on image\n",
    "    img_number = pytesseract.image_to_string(img,\n",
    "                                             lang='eng',\n",
    "                                             timeout=timeout,\n",
    "                                             config='--psm 7 -c tessedit_char_whitelist=0123456789.')\n",
    "    try:\n",
    "        img_number = '.' + img_number.split('.')[-1] #Extract right side of number\n",
    "        img_number = float(img_number) #convert to float\n",
    "    except:\n",
    "        img_number = np.nan #if img_number is empty, set as NaN\n",
    "    return img_number"
   ]
  },
  {
   "cell_type": "code",
   "execution_count": 183,
   "metadata": {},
   "outputs": [],
   "source": [
    "def get_frame_number(file):\n",
    "    \"\"\"Return frame number, based on file absolute path.\n",
    "    file: file absolute path\n",
    "    \"\"\"\n",
    "    frame_number = file.split('/')[-1].split('_frame_')[-1].split('.')[0]\n",
    "    frame_number = int(frame_number)\n",
    "    return frame_number"
   ]
  },
  {
   "cell_type": "code",
   "execution_count": 184,
   "metadata": {},
   "outputs": [],
   "source": [
    "def get_number_list(files: list):\n",
    "    \"\"\"Return number list from image files.\n",
    "    files: list of image files absolute paths.\n",
    "    Returns: \n",
    "    number_list\n",
    "    \"\"\"\n",
    "    number_list = []\n",
    "    for file in files:\n",
    "        img = process_img(file)\n",
    "        img_number = get_number_from_img(img)\n",
    "        number_list.append(img_number)\n",
    "    return number_list\n",
    "\n",
    "def get_frame_list(files: list):\n",
    "    \"\"\"Return frame number list from image files.\n",
    "    files: list of image files absolute paths.\n",
    "    Returns: \n",
    "    frame_number_list\n",
    "    \"\"\"\n",
    "    frame_number_list = []\n",
    "    for file in files:\n",
    "        frame_number = get_frame_number(file)\n",
    "        frame_number_list.append(frame_number)\n",
    "    return frame_number_list"
   ]
  },
  {
   "cell_type": "code",
   "execution_count": 220,
   "metadata": {},
   "outputs": [],
   "source": [
    "def get_time_index(initial_time_str: str, seconds: int, files: list):\n",
    "    time_array = []\n",
    "    initial_time_str = initial_time_str\n",
    "    initial_time = datetime.datetime.strptime(initial_time_str, '%Y-%m-%d %H:%M:%S')\n",
    "    for i in np.arange(0, len(files), 1):\n",
    "        time_i = initial_time + i * datetime.timedelta(seconds=seconds)\n",
    "        time_i = pd.to_datetime(time_i)\n",
    "        time_array.append(time_i)\n",
    "    time_array = np.array(time_array)\n",
    "    return time_array\n",
    "\n",
    "def get_conveyor_index(initial_conveyor: int, distance: int, files: list):\n",
    "    conveyor_array = []\n",
    "    initial_conveyor = initial_conveyor\n",
    "    for i in np.arange(0, len(files), 1):\n",
    "        conveyor_i = initial_conveyor + i * distance\n",
    "        conveyor_array.append(conveyor_i)\n",
    "    conveyor_array = np.array(conveyor_array)\n",
    "    return conveyor_array"
   ]
  },
  {
   "cell_type": "code",
   "execution_count": 134,
   "metadata": {
    "scrolled": false
   },
   "outputs": [],
   "source": [
    "#Get Directory and Files Paths\n",
    "directory, files = get_directory_files(file_extension='.tiff')"
   ]
  },
  {
   "cell_type": "code",
   "execution_count": 185,
   "metadata": {
    "scrolled": false
   },
   "outputs": [],
   "source": [
    "#Get number and frame number lists\n",
    "number_list = get_number_list(files)\n",
    "frame_number_list = get_frame_list(files)"
   ]
  },
  {
   "cell_type": "code",
   "execution_count": 194,
   "metadata": {},
   "outputs": [],
   "source": [
    "#Set Dataframe\n",
    "video_data = pd.DataFrame(np.array(number_list), columns=['laser_measurement'])\n",
    "frame_number_df = pd.DataFrame(np.array(frame_number_list), columns=['frame_number'])"
   ]
  },
  {
   "cell_type": "code",
   "execution_count": 221,
   "metadata": {},
   "outputs": [],
   "source": [
    "#Get Arrays\n",
    "time_array = get_time_index(initial_time_str='2022-06-25 11:07:49', seconds=7, files=files)\n",
    "conveyor_array = get_conveyor_index(initial_conveyor=106400, distance=160, files=files)\n",
    "#Get DFs\n",
    "time_array_df = pd.DataFrame(time_array, columns=['time_index'])\n",
    "conveyor_df = pd.DataFrame(conveyor_array, columns=['conveyor_index'])"
   ]
  },
  {
   "cell_type": "code",
   "execution_count": 223,
   "metadata": {},
   "outputs": [],
   "source": [
    "#Join Dataframes\n",
    "video_data = video_data.join(frame_number_df)\n",
    "video_data = video_data.join(time_array_df)\n",
    "video_data = video_data.join(conveyor_df)"
   ]
  },
  {
   "cell_type": "code",
   "execution_count": 224,
   "metadata": {},
   "outputs": [
    {
     "data": {
      "text/html": [
       "<div>\n",
       "<style scoped>\n",
       "    .dataframe tbody tr th:only-of-type {\n",
       "        vertical-align: middle;\n",
       "    }\n",
       "\n",
       "    .dataframe tbody tr th {\n",
       "        vertical-align: top;\n",
       "    }\n",
       "\n",
       "    .dataframe thead th {\n",
       "        text-align: right;\n",
       "    }\n",
       "</style>\n",
       "<table border=\"1\" class=\"dataframe\">\n",
       "  <thead>\n",
       "    <tr style=\"text-align: right;\">\n",
       "      <th></th>\n",
       "      <th>laser_measurement</th>\n",
       "      <th>frame_number</th>\n",
       "      <th>time_index</th>\n",
       "    </tr>\n",
       "  </thead>\n",
       "  <tbody>\n",
       "    <tr>\n",
       "      <th>0</th>\n",
       "      <td>0.483574</td>\n",
       "      <td>1</td>\n",
       "      <td>2022-06-25 11:07:49</td>\n",
       "    </tr>\n",
       "    <tr>\n",
       "      <th>1</th>\n",
       "      <td>0.484515</td>\n",
       "      <td>8</td>\n",
       "      <td>2022-06-25 11:07:56</td>\n",
       "    </tr>\n",
       "    <tr>\n",
       "      <th>2</th>\n",
       "      <td>0.485457</td>\n",
       "      <td>15</td>\n",
       "      <td>2022-06-25 11:08:03</td>\n",
       "    </tr>\n",
       "    <tr>\n",
       "      <th>3</th>\n",
       "      <td>0.485457</td>\n",
       "      <td>22</td>\n",
       "      <td>2022-06-25 11:08:10</td>\n",
       "    </tr>\n",
       "    <tr>\n",
       "      <th>4</th>\n",
       "      <td>0.486394</td>\n",
       "      <td>29</td>\n",
       "      <td>2022-06-25 11:08:17</td>\n",
       "    </tr>\n",
       "    <tr>\n",
       "      <th>...</th>\n",
       "      <td>...</td>\n",
       "      <td>...</td>\n",
       "      <td>...</td>\n",
       "    </tr>\n",
       "    <tr>\n",
       "      <th>805</th>\n",
       "      <td>0.933873</td>\n",
       "      <td>5636</td>\n",
       "      <td>2022-06-25 12:41:44</td>\n",
       "    </tr>\n",
       "    <tr>\n",
       "      <th>806</th>\n",
       "      <td>0.933873</td>\n",
       "      <td>5643</td>\n",
       "      <td>2022-06-25 12:41:51</td>\n",
       "    </tr>\n",
       "    <tr>\n",
       "      <th>807</th>\n",
       "      <td>0.934544</td>\n",
       "      <td>5650</td>\n",
       "      <td>2022-06-25 12:41:58</td>\n",
       "    </tr>\n",
       "    <tr>\n",
       "      <th>808</th>\n",
       "      <td>NaN</td>\n",
       "      <td>5657</td>\n",
       "      <td>2022-06-25 12:42:05</td>\n",
       "    </tr>\n",
       "    <tr>\n",
       "      <th>809</th>\n",
       "      <td>NaN</td>\n",
       "      <td>5664</td>\n",
       "      <td>2022-06-25 12:42:12</td>\n",
       "    </tr>\n",
       "  </tbody>\n",
       "</table>\n",
       "<p>810 rows × 3 columns</p>\n",
       "</div>"
      ],
      "text/plain": [
       "     laser_measurement  frame_number          time_index\n",
       "0             0.483574             1 2022-06-25 11:07:49\n",
       "1             0.484515             8 2022-06-25 11:07:56\n",
       "2             0.485457            15 2022-06-25 11:08:03\n",
       "3             0.485457            22 2022-06-25 11:08:10\n",
       "4             0.486394            29 2022-06-25 11:08:17\n",
       "..                 ...           ...                 ...\n",
       "805           0.933873          5636 2022-06-25 12:41:44\n",
       "806           0.933873          5643 2022-06-25 12:41:51\n",
       "807           0.934544          5650 2022-06-25 12:41:58\n",
       "808                NaN          5657 2022-06-25 12:42:05\n",
       "809                NaN          5664 2022-06-25 12:42:12\n",
       "\n",
       "[810 rows x 3 columns]"
      ]
     },
     "execution_count": 224,
     "metadata": {},
     "output_type": "execute_result"
    }
   ],
   "source": [
    "video_data"
   ]
  }
 ],
 "metadata": {
  "kernelspec": {
   "display_name": "Python 3",
   "language": "python",
   "name": "python3"
  },
  "language_info": {
   "codemirror_mode": {
    "name": "ipython",
    "version": 3
   },
   "file_extension": ".py",
   "mimetype": "text/x-python",
   "name": "python",
   "nbconvert_exporter": "python",
   "pygments_lexer": "ipython3",
   "version": "3.8.3"
  }
 },
 "nbformat": 4,
 "nbformat_minor": 4
}
