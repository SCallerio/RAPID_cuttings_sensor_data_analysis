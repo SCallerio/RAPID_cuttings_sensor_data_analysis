{
 "cells": [
  {
   "cell_type": "code",
   "execution_count": 105,
   "metadata": {},
   "outputs": [],
   "source": [
    "import numpy as np\n",
    "import cv2\n",
    "from tkinter import Tk, filedialog\n",
    "from pathlib import Path\n",
    "import os\n",
    "from os import listdir\n",
    "from os.path import isfile, join\n",
    "from PIL import Image, ImageEnhance, ImageOps, ImageFilter\n",
    "import PIL.Image\n",
    "import pytesseract\n",
    "pytesseract.pytesseract.tesseract_cmd = Path(r'C:\\Program Files\\Tesseract-OCR\\tesseract.exe') #Set Pytesseract path\n",
    "#import keras_ocr\n",
    "\n",
    "import matplotlib.pyplot as plt"
   ]
  },
  {
   "cell_type": "markdown",
   "metadata": {},
   "source": [
    "# Image Processing References\n",
    "\n",
    "https://pythongeeks.org/image-processing-in-python/\n",
    "\n",
    "https://www.section.io/engineering-education/image-adjustment-to-higher-or-lower-resolution-using-python/"
   ]
  },
  {
   "cell_type": "code",
   "execution_count": 2,
   "metadata": {},
   "outputs": [],
   "source": [
    "def initiate_tk_dialog():\n",
    "    root = Tk()  # pointing root to Tk() to use it as Tk() in program.\n",
    "    root.withdraw()  # Hides small tkinter window.\n",
    "    root.attributes('-topmost', True)  # Opened windows will be active. above all windows despite of selection.\n",
    "    return root\n",
    "\n",
    "def get_data_file(title: str, as_path = False):\n",
    "    root = initiate_tk_dialog()\n",
    "    if as_path == True:\n",
    "        data_file: Path = Path(filedialog.askopenfilename(title= title))  # Returns opened path as str\n",
    "    else:\n",
    "        data_file: str = str(filedialog.askopenfilename(title= title)) \n",
    "    root.destroy()\n",
    "    return data_file\n",
    "\n",
    "def get_directory(title: str, as_path = False):\n",
    "    root = initiate_tk_dialog()\n",
    "    if as_path == True:\n",
    "        directory: Path = Path(filedialog.askdirectory(title= title))\n",
    "    else:\n",
    "        directory: str = str(filedialog.askdirectory(title= title))\n",
    "    root.destroy()\n",
    "    return directory"
   ]
  },
  {
   "cell_type": "code",
   "execution_count": 133,
   "metadata": {},
   "outputs": [],
   "source": [
    "def get_directory_files(file_extension: str):\n",
    "    \"\"\"Look for files in directory with file extension as file_extension.\n",
    "    Returns directory path as string and list of absolute paths to files with matching extension.\n",
    "    file_extension: str, file extension\n",
    "    \"\"\"\n",
    "    directory = get_directory('Select Images Directory', as_path=False)\n",
    "    onlyfiles = [f for f in listdir(directory) if isfile(join(directory, f))]\n",
    "    files = list([])\n",
    "    for file in onlyfiles:\n",
    "         if file.endswith(file_extension):\n",
    "                file_path = '/'.join([directory, file])\n",
    "                files.append(file_path)\n",
    "    return directory, files"
   ]
  },
  {
   "cell_type": "code",
   "execution_count": 127,
   "metadata": {},
   "outputs": [],
   "source": [
    "def process_img(img_path: str, gray_scale = False):\n",
    "    \"\"\"Open image from img_path, invert.\n",
    "    Returns processed image.\n",
    "    img_path: absolute path to image file\n",
    "    gray_scale: Boolean, if True image will be converted to grayscale\n",
    "    \"\"\"\n",
    "    if gray_scale == True:\n",
    "        img = PIL.Image.open(img_path).convert(\"L\") #Convert to gray-scale\n",
    "    else:\n",
    "        img = PIL.Image.open(img_path)\n",
    "    img = ImageOps.invert(img) #Invert\n",
    "    return img"
   ]
  },
  {
   "cell_type": "code",
   "execution_count": 177,
   "metadata": {},
   "outputs": [],
   "source": [
    "def get_number_from_img(img, timeout = 15):\n",
    "    \"\"\"Get float number from image.\n",
    "    Returns float number.\n",
    "    img: processed image\n",
    "    timeout: pytesseract timeout value - default = 15\n",
    "    \"\"\"\n",
    "    #Run OCR on image\n",
    "    img_number = pytesseract.image_to_string(img,\n",
    "                                             lang='eng',\n",
    "                                             timeout=timeout,\n",
    "                                             config='--psm 7 -c tessedit_char_whitelist=0123456789.')\n",
    "    try:\n",
    "        img_number = '.' + img_number.split('.')[-1] #Extract right side of number\n",
    "        img_number = float(img_number) #convert to float\n",
    "    except:\n",
    "        img_number = np.nan #if img_number is empty, set as NaN\n",
    "    return img_number"
   ]
  },
  {
   "cell_type": "code",
   "execution_count": 183,
   "metadata": {},
   "outputs": [],
   "source": [
    "def get_frame_number(file):\n",
    "    \"\"\"Return frame number, based on file absolute path.\n",
    "    file: file absolute path\n",
    "    \"\"\"\n",
    "    frame_number = file.split('/')[-1].split('_frame_')[-1].split('.')[0]\n",
    "    frame_number = int(frame_number)\n",
    "    return frame_number"
   ]
  },
  {
   "cell_type": "code",
   "execution_count": 184,
   "metadata": {},
   "outputs": [],
   "source": [
    "def get_number_list(files: list):\n",
    "    \"\"\"Return number list from image files.\n",
    "    files: list of image files absolute paths.\n",
    "    Returns: \n",
    "    number_list\n",
    "    \"\"\"\n",
    "    number_list = []\n",
    "    for file in files:\n",
    "        img = process_img(file)\n",
    "        img_number = get_number_from_img(img)\n",
    "        number_list.append(img_number)\n",
    "    return number_list\n",
    "\n",
    "def get_frame_list(files: list):\n",
    "    \"\"\"Return frame number list from image files.\n",
    "    files: list of image files absolute paths.\n",
    "    Returns: \n",
    "    frame_number_list\n",
    "    \"\"\"\n",
    "    frame_number_list = []\n",
    "    for file in files:\n",
    "        frame_number = get_frame_number(file)\n",
    "        frame_number_list.append(frame_number)\n",
    "    return frame_number_list"
   ]
  },
  {
   "cell_type": "code",
   "execution_count": 134,
   "metadata": {
    "scrolled": false
   },
   "outputs": [],
   "source": [
    "#Get Directory and Files Paths\n",
    "directory, files = get_directory_files(file_extension='.tiff')"
   ]
  },
  {
   "cell_type": "code",
   "execution_count": null,
   "metadata": {
    "scrolled": false
   },
   "outputs": [],
   "source": [
    "#Get number and frame number lists\n",
    "number_list = get_number_list(files)\n",
    "frame_number_list = get_frame_list(files)"
   ]
  }
 ],
 "metadata": {
  "kernelspec": {
   "display_name": "Python 3",
   "language": "python",
   "name": "python3"
  },
  "language_info": {
   "codemirror_mode": {
    "name": "ipython",
    "version": 3
   },
   "file_extension": ".py",
   "mimetype": "text/x-python",
   "name": "python",
   "nbconvert_exporter": "python",
   "pygments_lexer": "ipython3",
   "version": "3.8.3"
  }
 },
 "nbformat": 4,
 "nbformat_minor": 4
}
