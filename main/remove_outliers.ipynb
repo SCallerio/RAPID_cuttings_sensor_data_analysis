{
 "cells": [
  {
   "cell_type": "code",
   "execution_count": 1,
   "metadata": {},
   "outputs": [],
   "source": [
    "#Add folder to sys path to import modules from sub folders\n",
    "import sys\n",
    "sys.path.insert(0, r'C:\\Users\\SaANTIAGO\\Google Drive Streaming\\My Drive\\18_UT_RAPID\\cuttings_sensor')"
   ]
  },
  {
   "cell_type": "code",
   "execution_count": 2,
   "metadata": {},
   "outputs": [],
   "source": [
    "# from src.text_extraction import *\n",
    "from src.file_dialog import *\n",
    "import numpy as np\n",
    "# import cv2\n",
    "# from tkinter import Tk, filedialog\n",
    "# from pathlib import Path\n",
    "# import os\n",
    "# from os import listdir\n",
    "# from os.path import isfile, join\n",
    "# from PIL import Image, ImageEnhance, ImageOps, ImageFilter\n",
    "# import PIL.Image\n",
    "# import pytesseract\n",
    "# pytesseract.pytesseract.tesseract_cmd = Path(r'C:\\Program Files\\Tesseract-OCR\\tesseract.exe') #Set Pytesseract path\n",
    "# #import keras_ocr\n",
    "import pandas as pd\n",
    "# import datetime\n",
    "\n",
    "import matplotlib.pyplot as plt"
   ]
  },
  {
   "cell_type": "code",
   "execution_count": 2,
   "metadata": {},
   "outputs": [],
   "source": [
    "def get_outliers_array(df, col: 'str', low_limit: float):\n",
    "    \"\"\"Store outliers into string array, used to later replace values.\n",
    "    Returns string array of outlier numbers\n",
    "    df: dataframe\n",
    "    col: column from dataframe (as str)\n",
    "    low_limit: float, set as minimum level for outliers\n",
    "    \"\"\"\n",
    "    #Get outliers array from column\n",
    "    outliers = df[col][df[col] > low_limit]\n",
    "    #Get anomalies\n",
    "    num_array = []\n",
    "    for i in np.arange(0, len(outliers)):\n",
    "        try:\n",
    "            num = str(outliers[i]).split('2')[0] #Split 0.8002672 into 0.800 and 672\n",
    "            if (len(num) < 6) & (not(num[-1] == '3')): #Biggest lenght in faulty OCR figs. is 0.800 which len < 6\n",
    "                num_array.append(num)\n",
    "        except:\n",
    "            next\n",
    "\n",
    "    for i in np.arange(0, len(outliers)):\n",
    "        try:\n",
    "            num = str(outliers[i]).split('3')[0]\n",
    "            if (len(num) < 6) & (not(num[-1] == '2')):\n",
    "                num_array.append(num)\n",
    "        except:\n",
    "            next\n",
    "    #Get unique values\n",
    "    num_array = np.unique(np.array(num_array))\n",
    "    #Sort array based value and larger strings\n",
    "    num_array = np.sort(num_array)[::-1] #Get array from biggest numbers and longest strings ['0.9', '0.800', '0.80', etc]\n",
    "    # num_array = sorted(list(num_array), key=len, reverse=True)\n",
    "    # num_array = np.array(num_array)\n",
    "    return num_array\n",
    "\n",
    "def replacement_array(num_array, string_replacement: str):\n",
    "    \"\"\"Return replacement array as string list ['0.00', '0.00', etc].\n",
    "    \"\"\"\n",
    "    # Find the length of each element\n",
    "    arr_len = np.array([len(i) for i in num_array])\n",
    "    #Generate replacement array\n",
    "    cond = [arr_len > 4, arr_len > 3, arr_len > 2]\n",
    "    choices = [replacement_array, replacement_array, replacement_array]\n",
    "    num_array_replace = np.select(cond, choices)\n",
    "    return num_array_replace\n",
    "\n",
    "def filter_outliers(df, col: str, num_array):\n",
    "    \"\"\"Filter and replace outliers in defective OCR.\n",
    "    Returns column with replaces outliers\n",
    "    df: dataframe\n",
    "    col: column in df\n",
    "    num_array: ouliers array    \n",
    "    \"\"\"\n",
    "    #Set both arrays as strings\n",
    "    df[col] = df[col].astype(str)\n",
    "    num_array = list(num_array.astype(str))\n",
    "    for i in np.arange(0, len(num_array)):\n",
    "        try:\n",
    "            #Search on first 5 characters of string\n",
    "            cond_1 = (df[col].astype(str).str.slice(0, 5).str.contains(num_array[i]))\n",
    "            #Only values higher than num_array element\n",
    "            cond_2 = (df[col].astype(float) >= num_array[i].astype(float))\n",
    "            mask = cond_2 & cond_1\n",
    "            #Replace num_Array element in string\n",
    "            df[col][mask] = df[col][mask].astype(str).str.replace(num_array[i], num_array_replace[i])\n",
    "        except:\n",
    "            next\n",
    "    #Convert to float, and coerce errors (for those elements with errors or NaNs)\n",
    "    df[col] = pd.to_numeric(df[col], errors = 'coerce')\n",
    "    return df[col]"
   ]
  },
  {
   "cell_type": "code",
   "execution_count": null,
   "metadata": {},
   "outputs": [],
   "source": [
    "def remove_outliers_iqr(df, col):\n",
    "    #Replace outliers\n",
    "    first_q = df[col].quantile(0.25)\n",
    "    third_q = df[col].quantile(0.75)\n",
    "    #mean_q = df[col].mean()\n",
    "    iqr = third_q - first_q\n",
    "    low_limit = first_q - 1.5*iqr\n",
    "    high_limit = third_q + 1.5*iqr\n",
    "    cond_1 = (df[col] > low_limit)\n",
    "    cond_2 = (df[col] < high_limit)\n",
    "    mask = cond_1 & cond_2\n",
    "    df[col] = df[col][mask]\n",
    "    return df[col]"
   ]
  },
  {
   "cell_type": "code",
   "execution_count": null,
   "metadata": {},
   "outputs": [],
   "source": [
    "#Replace outliers in laser_measurement (due to odd OCR interpretation)\n",
    "video_data = pd.read_csv(get_data_file('Select Video Data File'), index_col=0)\n",
    "video_data['time_index'] = pd.to_datetime(video_data['time_index'])"
   ]
  },
  {
   "cell_type": "code",
   "execution_count": null,
   "metadata": {},
   "outputs": [],
   "source": [
    "num_array = get_outliers_array(video_data, 'laser_measurement', low_limit=0.009)\n",
    "num_array_replace = replacement_array(num_array, '0.00')"
   ]
  },
  {
   "cell_type": "code",
   "execution_count": null,
   "metadata": {
    "scrolled": false
   },
   "outputs": [],
   "source": [
    "video_data['laser_measurement'] = filter_outliers(video_data, 'laser_measurement', num_array)"
   ]
  },
  {
   "cell_type": "code",
   "execution_count": null,
   "metadata": {},
   "outputs": [],
   "source": [
    "plt.figure(figsize=(18, 6))\n",
    "plt.plot(video_data['time_index'], video_data['laser_measurement'], '.')\n",
    "\n",
    "plt.show()"
   ]
  },
  {
   "cell_type": "code",
   "execution_count": null,
   "metadata": {},
   "outputs": [],
   "source": [
    "#Remove laser measurements outliers\n",
    "video_data['laser_measurement'] = remove_outliers_iqr(video_data, 'laser_measurement')\n"
   ]
  },
  {
   "cell_type": "code",
   "execution_count": null,
   "metadata": {},
   "outputs": [],
   "source": [
    "plt.figure(figsize=(18, 6))\n",
    "plt.plot(video_data['time_index'], video_data['laser_measurement'], '.')\n",
    "plt.show()"
   ]
  },
  {
   "cell_type": "code",
   "execution_count": null,
   "metadata": {},
   "outputs": [],
   "source": [
    "#Interpolate NaNs\n",
    "laser_measurement_array = video_data['laser_measurement'].interpolate(method='polynomial', order=3)\n",
    "plt.figure(figsize=(18, 6))\n",
    "plt.plot(video_data['time_index'], laser_measurement_array, '.')\n",
    "plt.show()"
   ]
  },
  {
   "cell_type": "code",
   "execution_count": null,
   "metadata": {},
   "outputs": [],
   "source": [
    "#Save Dataframe\n",
    "df_name = 'video_2_2022_06_22_data.csv'\n",
    "directory = get_directory('Select Directory to backup Video Data DF', as_path=True)\n",
    "file_path = os.path.join(directory, df_name)\n",
    "video_data.to_csv(file_path)"
   ]
  }
 ],
 "metadata": {
  "kernelspec": {
   "display_name": "Python 3",
   "language": "python",
   "name": "python3"
  },
  "language_info": {
   "codemirror_mode": {
    "name": "ipython",
    "version": 3
   },
   "file_extension": ".py",
   "mimetype": "text/x-python",
   "name": "python",
   "nbconvert_exporter": "python",
   "pygments_lexer": "ipython3",
   "version": "3.8.3"
  }
 },
 "nbformat": 4,
 "nbformat_minor": 4
}
