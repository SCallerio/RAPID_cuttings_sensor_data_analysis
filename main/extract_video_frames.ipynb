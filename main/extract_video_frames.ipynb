{
 "cells": [
  {
   "cell_type": "code",
   "execution_count": 3,
   "metadata": {},
   "outputs": [],
   "source": [
    "#Add folder to sys path to import modules from sub folders\n",
    "import sys\n",
    "sys.path.insert(0, r'C:\\Users\\SaANTIAGO\\Google Drive Streaming\\My Drive\\18_UT_RAPID\\cuttings_sensor')"
   ]
  },
  {
   "cell_type": "code",
   "execution_count": 42,
   "metadata": {},
   "outputs": [],
   "source": [
    "from src import file_dialog\n",
    "from pathlib import Path\n",
    "\n",
    "import cv2\n",
    "import numpy as np"
   ]
  },
  {
   "cell_type": "code",
   "execution_count": 90,
   "metadata": {},
   "outputs": [],
   "source": [
    "def get_file_path(name, num, save_directory):\n",
    "    filename = '_'.join([name, str(num)]) + '.jpg'\n",
    "    file_path = '/'.join([save_directory, filename])\n",
    "    return file_path"
   ]
  },
  {
   "cell_type": "code",
   "execution_count": 101,
   "metadata": {},
   "outputs": [],
   "source": [
    "def set_frames_array(seconds_distance, video_cap):\n",
    "    #Save video FPS\n",
    "    fps = video_cap.get(cv2.CAP_PROP_FPS)\n",
    "    #Total Video Frames\n",
    "    video_duration = cap.get(cv2.CAP_PROP_FRAME_COUNT)\n",
    "    sec = seconds_distance\n",
    "    frames_array = np.arange(0, video_duration, fps*sec, dtype=int)\n",
    "    return frames_array"
   ]
  },
  {
   "cell_type": "code",
   "execution_count": 120,
   "metadata": {
    "scrolled": true
   },
   "outputs": [],
   "source": [
    "def save_video_frames(file_name: str, video_cap, frames_array, save_full_img = False):\n",
    "    #Set file names\n",
    "    full_frame_name = '_'.join([file_name, 'full_frame'])\n",
    "    log_frame_name = '_'.join([file_name, 'log_frame'])\n",
    "    #Loop through saving frames array to save each selected frame\n",
    "    for frame_num in frames_array:\n",
    "        frame_num = int(frame_num)\n",
    "        #set video frame\n",
    "        video_cap.set(cv2.CAP_PROP_POS_FRAMES, frame_num)\n",
    "        #store current frame\n",
    "        is_read, frame = video_cap.read()\n",
    "        #Crop frame to get lower left log data\n",
    "        crop = frame[672:683, 0:250]\n",
    "        #Set file number\n",
    "        file_num = int(frame_num / fps + 1)\n",
    "        #Set file path\n",
    "        file_path = get_file_path(full_frame_name, file_num, save_directory)\n",
    "        crop_file_path = get_file_path(log_frame_name, file_num, save_directory)\n",
    "        #Save cropped frame to image (log data frame)\n",
    "        cv2.imwrite(crop_file_path, crop, [cv2.IMWRITE_JPEG_QUALITY, 100])\n",
    "        if save_full_img == True:\n",
    "            #Save frame to image\n",
    "            cv2.imwrite(file_path, frame, [cv2.IMWRITE_JPEG_QUALITY, 100])\n",
    "\n",
    "    return"
   ]
  },
  {
   "cell_type": "code",
   "execution_count": 115,
   "metadata": {},
   "outputs": [],
   "source": [
    "#Get video file path\n",
    "video_file = file_dialog.get_data_file('Select Video File')\n",
    "#Get image saving directory path\n",
    "save_directory = file_dialog.get_directory('Set img saving directory', as_path=False)\n",
    "# read the video file    \n",
    "cap = cv2.VideoCapture(video_file)\n",
    "#Saving Frames array (1 per second)\n",
    "frames_array = set_frames_array(seconds_distance=1, video_cap=cap)"
   ]
  },
  {
   "cell_type": "code",
   "execution_count": 121,
   "metadata": {},
   "outputs": [],
   "source": [
    "save_video_frames(file_name='video_1',\n",
    "                 video_cap=cap,\n",
    "                 frames_array=frames_array,\n",
    "                 save_full_img=False)"
   ]
  }
 ],
 "metadata": {
  "kernelspec": {
   "display_name": "Python 3",
   "language": "python",
   "name": "python3"
  },
  "language_info": {
   "codemirror_mode": {
    "name": "ipython",
    "version": 3
   },
   "file_extension": ".py",
   "mimetype": "text/x-python",
   "name": "python",
   "nbconvert_exporter": "python",
   "pygments_lexer": "ipython3",
   "version": "3.8.3"
  }
 },
 "nbformat": 4,
 "nbformat_minor": 4
}
