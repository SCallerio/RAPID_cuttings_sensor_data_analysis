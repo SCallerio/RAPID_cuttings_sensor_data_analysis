{
 "cells": [
  {
   "cell_type": "code",
   "execution_count": 3,
   "metadata": {},
   "outputs": [],
   "source": [
    "#Add folder to sys path to import modules from sub folders\n",
    "import sys\n",
    "sys.path.insert(0, r'C:\\Users\\SaANTIAGO\\Google Drive Streaming\\My Drive\\18_UT_RAPID\\cuttings_sensor')"
   ]
  },
  {
   "cell_type": "code",
   "execution_count": 42,
   "metadata": {},
   "outputs": [],
   "source": [
    "from src import file_dialog\n",
    "from pathlib import Path\n",
    "\n",
    "import cv2\n",
    "import numpy as np"
   ]
  },
  {
   "cell_type": "code",
   "execution_count": 90,
   "metadata": {},
   "outputs": [],
   "source": [
    "def get_file_path(name, num, save_directory):\n",
    "    filename = '_'.join([name, str(num)]) + '.jpg'\n",
    "    file_path = '/'.join([save_directory, filename])\n",
    "    return file_path"
   ]
  },
  {
   "cell_type": "code",
   "execution_count": 101,
   "metadata": {},
   "outputs": [],
   "source": [
    "def set_frames_array(seconds_distance, video_cap):\n",
    "    #Save video FPS\n",
    "    fps = video_cap.get(cv2.CAP_PROP_FPS)\n",
    "    #Total Video Frames\n",
    "    video_duration = cap.get(cv2.CAP_PROP_FRAME_COUNT)\n",
    "    sec = seconds_distance\n",
    "    frames_array = np.arange(0, video_duration, fps*sec, dtype=int)\n",
    "    return frames_array"
   ]
  },
  {
   "cell_type": "code",
   "execution_count": 171,
   "metadata": {
    "scrolled": true
   },
   "outputs": [],
   "source": [
    "def save_video_frames(file_name: str, video_cap, frames_array, save_full_img = False):\n",
    "    #Set file names\n",
    "    full_frame_name = '_'.join([file_name, 'full_frame'])\n",
    "    log_frame_name = '_'.join([file_name, 'log_frame'])\n",
    "    laser_frame_name = '_'.join([file_name, 'laser_frame'])\n",
    "    #Loop through saving frames array to save each selected frame\n",
    "    for frame_num in frames_array:\n",
    "        frame_num = int(frame_num)\n",
    "        #set video frame\n",
    "        video_cap.set(cv2.CAP_PROP_POS_FRAMES, frame_num)\n",
    "        #store current frame\n",
    "        is_read, frame = video_cap.read()\n",
    "        #Crop frame to get lower left log data\n",
    "        crop_log = frame[672:683, 0:250] #[y1:y2, x1:x2]\n",
    "        crop_laser = frame[170:250, 650:1000]\n",
    "        #Set file number\n",
    "        file_num = int(frame_num / fps + 1)\n",
    "        #Set file path\n",
    "        file_path = get_file_path(full_frame_name, file_num, save_directory)\n",
    "        crop_file_path = get_file_path(log_frame_name, file_num, save_directory)\n",
    "        crop_laser_file_path = get_file_path(laser_frame_name, file_num, save_directory)\n",
    "        #Save cropped frame to image (log data frame)\n",
    "        cv2.imwrite(crop_file_path, crop_log, [cv2.IMWRITE_JPEG_QUALITY, 100])\n",
    "        cv2.imwrite(crop_laser_file_path, crop_laser, [cv2.IMWRITE_JPEG_QUALITY, 100])\n",
    "        if save_full_img == True:\n",
    "            #Save frame to image\n",
    "            cv2.imwrite(file_path, frame, [cv2.IMWRITE_JPEG_QUALITY, 100])\n",
    "\n",
    "    return"
   ]
  },
  {
   "cell_type": "code",
   "execution_count": 153,
   "metadata": {},
   "outputs": [],
   "source": [
    "#Get video file path\n",
    "video_file = file_dialog.get_data_file('Select Video File')\n",
    "#Get image saving directory path\n",
    "save_directory = file_dialog.get_directory('Set img saving directory', as_path=False)\n",
    "# read the video file    \n",
    "cap = cv2.VideoCapture(video_file)\n",
    "#Saving Frames array (1 per second)\n",
    "frames_array = set_frames_array(seconds_distance=1, video_cap=cap)"
   ]
  },
  {
   "cell_type": "code",
   "execution_count": 172,
   "metadata": {},
   "outputs": [
    {
     "ename": "KeyboardInterrupt",
     "evalue": "",
     "output_type": "error",
     "traceback": [
      "\u001b[1;31m---------------------------------------------------------------------------\u001b[0m",
      "\u001b[1;31mKeyboardInterrupt\u001b[0m                         Traceback (most recent call last)",
      "\u001b[1;32m<ipython-input-172-e3415920465f>\u001b[0m in \u001b[0;36m<module>\u001b[1;34m\u001b[0m\n\u001b[1;32m----> 1\u001b[1;33m save_video_frames(file_name='video_2',\n\u001b[0m\u001b[0;32m      2\u001b[0m                  \u001b[0mvideo_cap\u001b[0m\u001b[1;33m=\u001b[0m\u001b[0mcap\u001b[0m\u001b[1;33m,\u001b[0m\u001b[1;33m\u001b[0m\u001b[1;33m\u001b[0m\u001b[0m\n\u001b[0;32m      3\u001b[0m                  \u001b[0mframes_array\u001b[0m\u001b[1;33m=\u001b[0m\u001b[0mframes_array\u001b[0m\u001b[1;33m,\u001b[0m\u001b[1;33m\u001b[0m\u001b[1;33m\u001b[0m\u001b[0m\n\u001b[0;32m      4\u001b[0m                  save_full_img=False)\n",
      "\u001b[1;32m<ipython-input-171-69e0ff8e8280>\u001b[0m in \u001b[0;36msave_video_frames\u001b[1;34m(file_name, video_cap, frames_array, save_full_img)\u001b[0m\n\u001b[0;32m      8\u001b[0m         \u001b[0mframe_num\u001b[0m \u001b[1;33m=\u001b[0m \u001b[0mint\u001b[0m\u001b[1;33m(\u001b[0m\u001b[0mframe_num\u001b[0m\u001b[1;33m)\u001b[0m\u001b[1;33m\u001b[0m\u001b[1;33m\u001b[0m\u001b[0m\n\u001b[0;32m      9\u001b[0m         \u001b[1;31m#set video frame\u001b[0m\u001b[1;33m\u001b[0m\u001b[1;33m\u001b[0m\u001b[1;33m\u001b[0m\u001b[0m\n\u001b[1;32m---> 10\u001b[1;33m         \u001b[0mvideo_cap\u001b[0m\u001b[1;33m.\u001b[0m\u001b[0mset\u001b[0m\u001b[1;33m(\u001b[0m\u001b[0mcv2\u001b[0m\u001b[1;33m.\u001b[0m\u001b[0mCAP_PROP_POS_FRAMES\u001b[0m\u001b[1;33m,\u001b[0m \u001b[0mframe_num\u001b[0m\u001b[1;33m)\u001b[0m\u001b[1;33m\u001b[0m\u001b[1;33m\u001b[0m\u001b[0m\n\u001b[0m\u001b[0;32m     11\u001b[0m         \u001b[1;31m#store current frame\u001b[0m\u001b[1;33m\u001b[0m\u001b[1;33m\u001b[0m\u001b[1;33m\u001b[0m\u001b[0m\n\u001b[0;32m     12\u001b[0m         \u001b[0mis_read\u001b[0m\u001b[1;33m,\u001b[0m \u001b[0mframe\u001b[0m \u001b[1;33m=\u001b[0m \u001b[0mvideo_cap\u001b[0m\u001b[1;33m.\u001b[0m\u001b[0mread\u001b[0m\u001b[1;33m(\u001b[0m\u001b[1;33m)\u001b[0m\u001b[1;33m\u001b[0m\u001b[1;33m\u001b[0m\u001b[0m\n",
      "\u001b[1;31mKeyboardInterrupt\u001b[0m: "
     ]
    }
   ],
   "source": [
    "save_video_frames(file_name='video_2',\n",
    "                 video_cap=cap,\n",
    "                 frames_array=frames_array,\n",
    "                 save_full_img=False)"
   ]
  }
 ],
 "metadata": {
  "kernelspec": {
   "display_name": "Python 3",
   "language": "python",
   "name": "python3"
  },
  "language_info": {
   "codemirror_mode": {
    "name": "ipython",
    "version": 3
   },
   "file_extension": ".py",
   "mimetype": "text/x-python",
   "name": "python",
   "nbconvert_exporter": "python",
   "pygments_lexer": "ipython3",
   "version": "3.8.3"
  }
 },
 "nbformat": 4,
 "nbformat_minor": 4
}
