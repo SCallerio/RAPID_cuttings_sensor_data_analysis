{
 "cells": [
  {
   "cell_type": "code",
   "execution_count": null,
   "metadata": {},
   "outputs": [],
   "source": [
    "#Add folder to sys path to import modules from sub folders\n",
    "import sys\n",
    "sys.path.insert(0, r'C:\\Users\\SaANTIAGO\\Google Drive Streaming\\My Drive\\18_UT_RAPID\\cuttings_sensor')"
   ]
  },
  {
   "cell_type": "code",
   "execution_count": null,
   "metadata": {},
   "outputs": [],
   "source": [
    "from src import file_dialog\n",
    "from src.video_frames import *\n",
    "from pathlib import Path\n",
    "\n",
    "import cv2\n",
    "import numpy as np"
   ]
  },
  {
   "cell_type": "code",
   "execution_count": null,
   "metadata": {},
   "outputs": [],
   "source": [
    "#Get video file path\n",
    "video_file = file_dialog.get_data_file('Select Video File')\n",
    "#Get image saving directory path\n",
    "save_directory = file_dialog.get_directory('Set img saving directory', as_path=False)\n",
    "# read the video file    \n",
    "cap = cv2.VideoCapture(video_file)\n",
    "#Saving Frames array (1 per second)\n",
    "frames_array, fps = set_frames_array(seconds_distance=7, video_cap=cap)"
   ]
  },
  {
   "cell_type": "code",
   "execution_count": null,
   "metadata": {},
   "outputs": [],
   "source": [
    "#Save Video Frames\n",
    "save_video_frames(file_name='video_2022-06-25',\n",
    "                  video_cap=cap,\n",
    "                  frames_array=frames_array,\n",
    "                  fps = fps,\n",
    "                  save_directory = save_directory,\n",
    "                  save_laser_img = False,\n",
    "                  save_full_img=False)"
   ]
  },
  {
   "cell_type": "code",
   "execution_count": null,
   "metadata": {},
   "outputs": [],
   "source": [
    "file_name = 'upscale_test'\n",
    "save_full_img = True\n",
    "#Set file names\n",
    "full_frame_name = '_'.join([file_name, 'full_frame'])\n",
    "log_frame_name = '_'.join([file_name, 'log_frame'])\n",
    "laser_frame_name = '_'.join([file_name, 'laser_frame'])\n",
    "\n",
    "frame_num = 1\n",
    "#set video frame\n",
    "cap.set(cv2.CAP_PROP_POS_FRAMES, frame_num)\n",
    "#store current frame\n",
    "is_read, frame = cap.read()\n",
    "#Upscale Image using Laplacian Pyramid Super-Resolution Network\n",
    "frame = cv2.pyrUp(frame)\n",
    "#Crop frame to get lower left log data\n",
    "crop_log = frame[640:683, 680:1000] #[y1:y2, x1:x2]\n",
    "#crop_log = cv2.Canny(crop_log, 100,200) #getting the image with edges detected\n",
    "crop_laser = frame[170:250, 650:1000]\n",
    "#Set file number\n",
    "file_num = int(frame_num / fps + 1)\n",
    "#Set file path\n",
    "file_path = get_file_path(full_frame_name, file_num, save_directory)\n",
    "crop_file_path = get_file_path(log_frame_name, file_num, save_directory)\n",
    "crop_laser_file_path = get_file_path(laser_frame_name, file_num, save_directory)\n",
    "#Save cropped frame to image (log data frame)\n",
    "cv2.imwrite(crop_file_path, crop_log) #, [cv2.IMWRITE_JPEG_QUALITY, 100])\n",
    "cv2.imwrite(crop_laser_file_path, crop_laser) #, [cv2.IMWRITE_JPEG_QUALITY, 100])\n",
    "if save_full_img == True:\n",
    "    #Save frame to image\n",
    "    cv2.imwrite(file_path, frame) #, [cv2.IMWRITE_JPEG_QUALITY, 100])"
   ]
  }
 ],
 "metadata": {
  "kernelspec": {
   "display_name": "Python 3",
   "language": "python",
   "name": "python3"
  },
  "language_info": {
   "codemirror_mode": {
    "name": "ipython",
    "version": 3
   },
   "file_extension": ".py",
   "mimetype": "text/x-python",
   "name": "python",
   "nbconvert_exporter": "python",
   "pygments_lexer": "ipython3",
   "version": "3.8.3"
  }
 },
 "nbformat": 4,
 "nbformat_minor": 4
}
