{
 "cells": [
  {
   "cell_type": "code",
   "execution_count": 1,
   "metadata": {},
   "outputs": [],
   "source": [
    "#Add folder to sys path to import modules from sub folders\n",
    "import sys\n",
    "sys.path.insert(0, r'C:\\Users\\SaANTIAGO\\Google Drive Streaming\\My Drive\\18_UT_RAPID\\cuttings_sensor')"
   ]
  },
  {
   "cell_type": "code",
   "execution_count": 2,
   "metadata": {},
   "outputs": [],
   "source": [
    "from src import file_dialog\n",
    "from src.video_frames import *\n",
    "from pathlib import Path\n",
    "\n",
    "import cv2\n",
    "import numpy as np"
   ]
  },
  {
   "cell_type": "code",
   "execution_count": 3,
   "metadata": {},
   "outputs": [],
   "source": [
    "#Get video file path\n",
    "video_file = file_dialog.get_data_file('Select Video File')\n",
    "#Get image saving directory path\n",
    "save_directory = file_dialog.get_directory('Set img saving directory', as_path=False)\n",
    "# read the video file    \n",
    "cap = cv2.VideoCapture(video_file)\n",
    "#Saving Frames array (1 per second)\n",
    "frames_array, fps = set_frames_array(seconds_distance=1, video_cap=cap)"
   ]
  },
  {
   "cell_type": "code",
   "execution_count": 4,
   "metadata": {},
   "outputs": [],
   "source": [
    "#Save Video Frames\n",
    "save_video_frames(file_name='video_2022-06-22',\n",
    "                  video_cap=cap,\n",
    "                  frames_array=frames_array,\n",
    "                  fps = fps,\n",
    "                  save_directory = save_directory,\n",
    "                  save_laser_img = False,\n",
    "                  save_full_img=False)"
   ]
  }
 ],
 "metadata": {
  "kernelspec": {
   "display_name": "Python 3",
   "language": "python",
   "name": "python3"
  },
  "language_info": {
   "codemirror_mode": {
    "name": "ipython",
    "version": 3
   },
   "file_extension": ".py",
   "mimetype": "text/x-python",
   "name": "python",
   "nbconvert_exporter": "python",
   "pygments_lexer": "ipython3",
   "version": "3.8.3"
  }
 },
 "nbformat": 4,
 "nbformat_minor": 4
}
